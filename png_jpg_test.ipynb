{
  "nbformat": 4,
  "nbformat_minor": 5,
  "metadata": {
    "kernelspec": {
      "display_name": "Python 3",
      "language": "python",
      "name": "python3"
    },
    "language_info": {
      "codemirror_mode": {
        "name": "ipython",
        "version": 3
      },
      "file_extension": ".py",
      "mimetype": "text/x-python",
      "name": "python",
      "nbconvert_exporter": "python",
      "pygments_lexer": "ipython3",
      "version": "3.9.4"
    },
    "colab": {
      "name": "png_jpg_test.ipynb",
      "provenance": [],
      "collapsed_sections": [],
      "machine_shape": "hm",
      "include_colab_link": true
    },
    "accelerator": "GPU"
  },
  "cells": [
    {
      "cell_type": "markdown",
      "metadata": {
        "id": "view-in-github",
        "colab_type": "text"
      },
      "source": [
        "<a href=\"https://colab.research.google.com/github/xcellentbird/TOY-PROJECTS/blob/main/png_jpg_test.ipynb\" target=\"_parent\"><img src=\"https://colab.research.google.com/assets/colab-badge.svg\" alt=\"Open In Colab\"/></a>"
      ]
    },
    {
      "cell_type": "code",
      "metadata": {
        "colab": {
          "base_uri": "https://localhost:8080/"
        },
        "id": "5bad6934",
        "outputId": "ecc4a8e7-915f-4473-ab1e-930b02b37877"
      },
      "source": [
        "from PIL import Image\n",
        "import PIL\n",
        "import torchvision\n",
        "import numpy as np\n",
        "import os\n",
        "import torch\n",
        "import torch.nn as nn\n",
        "import torch.optim as optim\n",
        "import torch.nn.functional as F\n",
        "\n",
        "from torchvision.utils import save_image\n",
        "from torchvision import transforms\n",
        "\n",
        "!pip install timm\n",
        "import timm"
      ],
      "id": "5bad6934",
      "execution_count": null,
      "outputs": [
        {
          "output_type": "stream",
          "name": "stdout",
          "text": [
            "Collecting timm\n",
            "  Downloading timm-0.4.12-py3-none-any.whl (376 kB)\n",
            "\u001b[?25l\r\u001b[K     |▉                               | 10 kB 35.5 MB/s eta 0:00:01\r\u001b[K     |█▊                              | 20 kB 20.0 MB/s eta 0:00:01\r\u001b[K     |██▋                             | 30 kB 16.8 MB/s eta 0:00:01\r\u001b[K     |███▌                            | 40 kB 14.8 MB/s eta 0:00:01\r\u001b[K     |████▍                           | 51 kB 6.9 MB/s eta 0:00:01\r\u001b[K     |█████▏                          | 61 kB 8.1 MB/s eta 0:00:01\r\u001b[K     |██████                          | 71 kB 7.6 MB/s eta 0:00:01\r\u001b[K     |███████                         | 81 kB 8.5 MB/s eta 0:00:01\r\u001b[K     |███████▉                        | 92 kB 9.1 MB/s eta 0:00:01\r\u001b[K     |████████▊                       | 102 kB 7.1 MB/s eta 0:00:01\r\u001b[K     |█████████▋                      | 112 kB 7.1 MB/s eta 0:00:01\r\u001b[K     |██████████▍                     | 122 kB 7.1 MB/s eta 0:00:01\r\u001b[K     |███████████▎                    | 133 kB 7.1 MB/s eta 0:00:01\r\u001b[K     |████████████▏                   | 143 kB 7.1 MB/s eta 0:00:01\r\u001b[K     |█████████████                   | 153 kB 7.1 MB/s eta 0:00:01\r\u001b[K     |██████████████                  | 163 kB 7.1 MB/s eta 0:00:01\r\u001b[K     |██████████████▊                 | 174 kB 7.1 MB/s eta 0:00:01\r\u001b[K     |███████████████▋                | 184 kB 7.1 MB/s eta 0:00:01\r\u001b[K     |████████████████▌               | 194 kB 7.1 MB/s eta 0:00:01\r\u001b[K     |█████████████████▍              | 204 kB 7.1 MB/s eta 0:00:01\r\u001b[K     |██████████████████▎             | 215 kB 7.1 MB/s eta 0:00:01\r\u001b[K     |███████████████████▏            | 225 kB 7.1 MB/s eta 0:00:01\r\u001b[K     |████████████████████            | 235 kB 7.1 MB/s eta 0:00:01\r\u001b[K     |████████████████████▉           | 245 kB 7.1 MB/s eta 0:00:01\r\u001b[K     |█████████████████████▊          | 256 kB 7.1 MB/s eta 0:00:01\r\u001b[K     |██████████████████████▋         | 266 kB 7.1 MB/s eta 0:00:01\r\u001b[K     |███████████████████████▌        | 276 kB 7.1 MB/s eta 0:00:01\r\u001b[K     |████████████████████████▍       | 286 kB 7.1 MB/s eta 0:00:01\r\u001b[K     |█████████████████████████▏      | 296 kB 7.1 MB/s eta 0:00:01\r\u001b[K     |██████████████████████████      | 307 kB 7.1 MB/s eta 0:00:01\r\u001b[K     |███████████████████████████     | 317 kB 7.1 MB/s eta 0:00:01\r\u001b[K     |███████████████████████████▉    | 327 kB 7.1 MB/s eta 0:00:01\r\u001b[K     |████████████████████████████▊   | 337 kB 7.1 MB/s eta 0:00:01\r\u001b[K     |█████████████████████████████▌  | 348 kB 7.1 MB/s eta 0:00:01\r\u001b[K     |██████████████████████████████▍ | 358 kB 7.1 MB/s eta 0:00:01\r\u001b[K     |███████████████████████████████▎| 368 kB 7.1 MB/s eta 0:00:01\r\u001b[K     |████████████████████████████████| 376 kB 7.1 MB/s \n",
            "\u001b[?25hRequirement already satisfied: torch>=1.4 in /usr/local/lib/python3.7/dist-packages (from timm) (1.9.0+cu102)\n",
            "Requirement already satisfied: torchvision in /usr/local/lib/python3.7/dist-packages (from timm) (0.10.0+cu102)\n",
            "Requirement already satisfied: typing-extensions in /usr/local/lib/python3.7/dist-packages (from torch>=1.4->timm) (3.7.4.3)\n",
            "Requirement already satisfied: numpy in /usr/local/lib/python3.7/dist-packages (from torchvision->timm) (1.19.5)\n",
            "Requirement already satisfied: pillow>=5.3.0 in /usr/local/lib/python3.7/dist-packages (from torchvision->timm) (7.1.2)\n",
            "Installing collected packages: timm\n",
            "Successfully installed timm-0.4.12\n"
          ]
        }
      ]
    },
    {
      "cell_type": "code",
      "metadata": {
        "colab": {
          "resources": {
            "http://localhost:8080/nbextensions/google.colab/files.js": {
              "data": "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",
              "ok": true,
              "headers": [
                [
                  "content-type",
                  "application/javascript"
                ]
              ],
              "status": 200,
              "status_text": ""
            }
          },
          "base_uri": "https://localhost:8080/",
          "height": 73
        },
        "id": "8g6F7Ok412GY",
        "outputId": "77b288bb-1038-4e25-aab5-5bd0810326ac"
      },
      "source": [
        "from google import colab\n",
        "\n",
        "colab.files.upload()"
      ],
      "id": "8g6F7Ok412GY",
      "execution_count": null,
      "outputs": [
        {
          "output_type": "display_data",
          "data": {
            "text/html": [
              "\n",
              "     <input type=\"file\" id=\"files-673fc785-6b93-4871-8503-3207dfd2a56c\" name=\"files[]\" multiple disabled\n",
              "        style=\"border:none\" />\n",
              "     <output id=\"result-673fc785-6b93-4871-8503-3207dfd2a56c\">\n",
              "      Upload widget is only available when the cell has been executed in the\n",
              "      current browser session. Please rerun this cell to enable.\n",
              "      </output>\n",
              "      <script src=\"/nbextensions/google.colab/files.js\"></script> "
            ],
            "text/plain": [
              "<IPython.core.display.HTML object>"
            ]
          },
          "metadata": {}
        },
        {
          "output_type": "stream",
          "name": "stdout",
          "text": [
            "Saving CIFAR10.zip to CIFAR10.zip\n"
          ]
        }
      ]
    },
    {
      "cell_type": "code",
      "metadata": {
        "id": "31vNLmts2tSL"
      },
      "source": [
        "import zipfile\n",
        "\n",
        "zipfile.ZipFile('CIFAR10.zip').extractall('./')"
      ],
      "id": "31vNLmts2tSL",
      "execution_count": null,
      "outputs": []
    },
    {
      "cell_type": "code",
      "metadata": {
        "id": "6c947d2b"
      },
      "source": [
        "path = './CIFAR10'"
      ],
      "id": "6c947d2b",
      "execution_count": null,
      "outputs": []
    },
    {
      "cell_type": "markdown",
      "metadata": {
        "id": "08dc1392"
      },
      "source": [
        "# CIFAR10 데이터셋 format변환 및 다운로드"
      ],
      "id": "08dc1392"
    },
    {
      "cell_type": "code",
      "metadata": {
        "id": "cdfe9d28",
        "outputId": "b959f9ae-de7f-4e91-a61c-39d782e03ef1"
      },
      "source": [
        "train_dataset = torchvision.datasets.CIFAR10(root='./', train=True, download=True, transform=transforms.ToTensor())\n",
        "test_dataset = torchvision.datasets.CIFAR10(root='./', train=False, download=True, transform=transforms.ToTensor())"
      ],
      "id": "cdfe9d28",
      "execution_count": null,
      "outputs": [
        {
          "name": "stdout",
          "output_type": "stream",
          "text": [
            "Files already downloaded and verified\n",
            "Files already downloaded and verified\n"
          ]
        }
      ]
    },
    {
      "cell_type": "code",
      "metadata": {
        "id": "333e89e9"
      },
      "source": [
        "train_dataloader = torch.utils.data.DataLoader(train_dataset)\n",
        "test_dataloader = torch.utils.data.DataLoader(test_dataset)"
      ],
      "id": "333e89e9",
      "execution_count": null,
      "outputs": []
    },
    {
      "cell_type": "code",
      "metadata": {
        "id": "547104a7"
      },
      "source": [
        "for c in dataset.classes:\n",
        "    os.mkdir(os.path.join(path,'jpg','train',c))\n",
        "    os.mkdir(os.path.join(path,'jpg','test',c))\n",
        "    os.mkdir(os.path.join(path,'png','train',c))\n",
        "    os.mkdir(os.path.join(path,'png','test',c))"
      ],
      "id": "547104a7",
      "execution_count": null,
      "outputs": []
    },
    {
      "cell_type": "code",
      "metadata": {
        "id": "9b148b22"
      },
      "source": [
        "for i, (img, label) in enumerate(train_dataloader):\n",
        "    save_image(img, os.path.join(path, 'png', 'train', train_dataset.classes[label], '{:4}'.format(str(i)) + '.png'))\n",
        "    save_image(img, os.path.join(path, 'jpg', 'train', train_dataset.classes[label], '{:4}'.format(str(i)) + '.png'))\n",
        "\n",
        "for i, (img, label) in enumerate(test_dataloader):\n",
        "    save_image(img, os.path.join(path, 'jpg', 'test', test_dataset.classes[label], '{:4}'.format(str(i)) + '.png'))\n",
        "    save_image(img, os.path.join(path, 'png', 'test', test_dataset.classes[label], '{:4}'.format(str(i)) + '.png'))"
      ],
      "id": "9b148b22",
      "execution_count": null,
      "outputs": []
    },
    {
      "cell_type": "markdown",
      "metadata": {
        "id": "c14eae6e"
      },
      "source": [
        "--- --- ---"
      ],
      "id": "c14eae6e"
    },
    {
      "cell_type": "markdown",
      "metadata": {
        "id": "af6f0c4e"
      },
      "source": [
        "# png, jpg 데이터셋과 모델 준비"
      ],
      "id": "af6f0c4e"
    },
    {
      "cell_type": "code",
      "metadata": {
        "id": "a221ab38"
      },
      "source": [
        "transform = transforms.ToTensor()"
      ],
      "id": "a221ab38",
      "execution_count": null,
      "outputs": []
    },
    {
      "cell_type": "code",
      "metadata": {
        "id": "82ba9e7e"
      },
      "source": [
        "jpg_train_dataset = torchvision.datasets.ImageFolder(os.path.join(path, 'jpg','train'), transform=transform)\n",
        "jpg_test_dataset = torchvision.datasets.ImageFolder(os.path.join(path, 'jpg','test'), transform=transform)\n",
        "\n",
        "png_train_dataset = torchvision.datasets.ImageFolder(os.path.join(path, 'png','train'), transform=transform)\n",
        "png_test_dataset = torchvision.datasets.ImageFolder(os.path.join(path, 'png','test'), transform=transform)"
      ],
      "id": "82ba9e7e",
      "execution_count": null,
      "outputs": []
    },
    {
      "cell_type": "code",
      "metadata": {
        "id": "7b8abc87"
      },
      "source": [
        "jpg_train_dataloader = torch.utils.data.DataLoader(dataset=jpg_train_dataset, batch_size=16, shuffle=True)\n",
        "jpg_test_dataloader = torch.utils.data.DataLoader(dataset=jpg_test_dataset, batch_size=16, shuffle=True)\n",
        "\n",
        "png_train_dataloader = torch.utils.data.DataLoader(dataset=png_train_dataset, batch_size=16, shuffle=True)\n",
        "png_test_dataloader = torch.utils.data.DataLoader(dataset=png_test_dataset, batch_size=16, shuffle=True)\n",
        "\n",
        "dataloaders = {'jpg':[jpg_train_dataloader, jpg_test_dataloader], 'png':[png_train_dataloader, png_test_dataloader]}"
      ],
      "id": "7b8abc87",
      "execution_count": null,
      "outputs": []
    },
    {
      "cell_type": "code",
      "metadata": {
        "id": "d791dd97"
      },
      "source": [
        "model_for_jpg = timm.create_model('tf_efficientnetv2_b0', pretrained=True, num_classes=len(jpg_train_dataset.classes))\n",
        "model_for_png = timm.create_model('tf_efficientnetv2_b0', pretrained=True, num_classes=len(jpg_train_dataset.classes))\n",
        "\n",
        "models = {\"jpg\":model_for_jpg, \"png\":model_for_png}"
      ],
      "id": "d791dd97",
      "execution_count": null,
      "outputs": []
    },
    {
      "cell_type": "code",
      "metadata": {
        "id": "7UKAVMy8Dhph"
      },
      "source": [
        "for m in models:\n",
        "  models[m] = nn.Sequential(models[m], nn.ReLU(), nn.Softmax(dim=-1))\n",
        "  models[m] = models[m].cuda()"
      ],
      "id": "7UKAVMy8Dhph",
      "execution_count": null,
      "outputs": []
    },
    {
      "cell_type": "code",
      "metadata": {
        "id": "8abcfb1b"
      },
      "source": [
        "freeze = False\n",
        "if freeze:\n",
        "    for m in models:\n",
        "        for p in models[m].parameters():\n",
        "            p.requires_grad = False\n",
        "\n",
        "        for p in models[m].classifier.parameters():\n",
        "            p.requires_grad = True\n",
        "            "
      ],
      "id": "8abcfb1b",
      "execution_count": null,
      "outputs": []
    },
    {
      "cell_type": "code",
      "metadata": {
        "id": "d6f77467"
      },
      "source": [
        "#optimizer = optim.SGD(model.parameters(), lr=0.01, momentum=0.5)\n",
        "lr = 0.001\n",
        "if freeze:\n",
        "    optimizer_for_jpg = optim.SGD(models['jpg'].classifier.parameters(), lr=lr, momentum=0.5)\n",
        "    optimizer_for_png = optim.SGD(models['png'].classifier.parameters(), lr=lr, momentum=0.5)\n",
        "else:\n",
        "    optimizer_for_jpg = optim.SGD(models['jpg'].parameters(), lr=lr, momentum=0.5)\n",
        "    optimizer_for_png = optim.SGD(models['png'].parameters(), lr=lr, momentum=0.5)\n",
        "\n",
        "optimizers = {'jpg':optimizer_for_jpg, 'png':optimizer_for_png}\n",
        "\n",
        "\n",
        "CELoss = nn.CrossEntropyLoss().cuda()"
      ],
      "id": "d6f77467",
      "execution_count": null,
      "outputs": []
    },
    {
      "cell_type": "code",
      "metadata": {
        "id": "e1b7574b"
      },
      "source": [
        "def train(model, train_loader, loss_function, optimizer, epoch):\n",
        "  model.train()\n",
        "  for idx, (data, target) in enumerate(train_loader):\n",
        "    optimizer.zero_grad()\n",
        "    data, target = data.cuda(), target.cuda()\n",
        "    output = model(data)\n",
        "\n",
        "    loss = loss_function(output, target)\n",
        "    loss.backward()\n",
        "    optimizer.step()\n",
        "\n",
        "    if idx and not idx % 10:\n",
        "      print('\\rTrain Epoch: {} [{}/{} ({:.0f}%)] \\t Loss: {:.6f}'.format(\n",
        "        epoch, idx * len(data), len(train_loader.dataset),\n",
        "        100. * idx / len(train_loader), loss.item()\n",
        "      ), end='')"
      ],
      "id": "e1b7574b",
      "execution_count": null,
      "outputs": []
    },
    {
      "cell_type": "code",
      "metadata": {
        "id": "546eb2ff"
      },
      "source": [
        "def evaluate(model, test_loader, loss_function):\n",
        "    model.eval()\n",
        "    test_loss = 0\n",
        "    correct = 0\n",
        "    with torch.no_grad():\n",
        "        for data, target in test_loader:\n",
        "            data, target = data.cuda(), target.cuda()\n",
        "            output = model(data)\n",
        "\n",
        "            test_loss += loss_function(output, target)\n",
        "\n",
        "            output = output.cpu().numpy()\n",
        "            \n",
        "            pred = np.argmax(output, axis=1)\n",
        "            #_, pred = output.max(dim=1, keepdim=True)\n",
        "            correct += sum(target.cpu().numpy() == pred) #pred.eq(target.view_as(pred)).sum().item()\n",
        "    test_accuracy = 100. * correct / len(test_loader.dataset)\n",
        "    return test_loss, test_accuracy"
      ],
      "id": "546eb2ff",
      "execution_count": null,
      "outputs": []
    },
    {
      "cell_type": "code",
      "metadata": {
        "colab": {
          "base_uri": "https://localhost:8080/"
        },
        "id": "8ed62d9a",
        "outputId": "c161fe3f-3273-4678-b15f-d92f375001b4"
      },
      "source": [
        "model = models['png']\n",
        "for epoch in range(50):\n",
        "  # train with png dataset\n",
        "  train(model, dataloaders['png'][0], CELoss, optimizers['png'], epoch+1)\n",
        "\n",
        "  # test with png dataset\n",
        "  test_loss, test_accuracy = evaluate(model, dataloaders['png'][1], CELoss)\n",
        "  print('\\n[{}] png - Test Loss: {:.4f}, Accuracy: {:.8f}%'.format(\n",
        "    epoch+1, test_loss, test_accuracy\n",
        "  ))\n",
        "\n",
        "  # test with jpg dataset\n",
        "  test_loss, test_accuracy = evaluate(model, dataloaders['jpg'][1], CELoss)\n",
        "  print('[{}] jpg - Test Loss: {:.4f}, Accuracy: {:.8f}%'.format(\n",
        "    epoch+1, test_loss, test_accuracy\n",
        "  ))"
      ],
      "id": "8ed62d9a",
      "execution_count": null,
      "outputs": [
        {
          "output_type": "stream",
          "name": "stdout",
          "text": [
            "Train Epoch: 1 [49920/50000 (100%)] \t Loss: 1.928047\n",
            "[1] png - Test Loss: 1203.0369, Accuracy: 53.34000000%\n",
            "[1] jpg - Test Loss: 1203.0367, Accuracy: 53.34000000%\n",
            "Train Epoch: 2 [49920/50000 (100%)] \t Loss: 1.979603\n",
            "[2] png - Test Loss: 1183.8125, Accuracy: 56.66000000%\n",
            "[2] jpg - Test Loss: 1183.8126, Accuracy: 56.66000000%\n",
            "Train Epoch: 3 [49920/50000 (100%)] \t Loss: 1.951107\n",
            "[3] png - Test Loss: 1164.3923, Accuracy: 59.73000000%\n",
            "[3] jpg - Test Loss: 1164.3926, Accuracy: 59.73000000%\n",
            "Train Epoch: 4 [49920/50000 (100%)] \t Loss: 1.804829\n",
            "[4] png - Test Loss: 1151.6798, Accuracy: 61.61000000%\n",
            "[4] jpg - Test Loss: 1151.6802, Accuracy: 61.61000000%\n",
            "Train Epoch: 5 [49920/50000 (100%)] \t Loss: 1.939555\n",
            "[5] png - Test Loss: 1141.7509, Accuracy: 63.33000000%\n",
            "[5] jpg - Test Loss: 1141.7502, Accuracy: 63.33000000%\n",
            "Train Epoch: 6 [49920/50000 (100%)] \t Loss: 1.691371\n",
            "[6] png - Test Loss: 1132.0271, Accuracy: 64.90000000%\n",
            "[6] jpg - Test Loss: 1132.0275, Accuracy: 64.90000000%\n",
            "Train Epoch: 7 [49920/50000 (100%)] \t Loss: 1.903000\n",
            "[7] png - Test Loss: 1127.3259, Accuracy: 65.56000000%\n",
            "[7] jpg - Test Loss: 1127.3264, Accuracy: 65.56000000%\n",
            "Train Epoch: 8 [49920/50000 (100%)] \t Loss: 1.772705\n",
            "[8] png - Test Loss: 1123.9012, Accuracy: 66.04000000%\n",
            "[8] jpg - Test Loss: 1123.9017, Accuracy: 66.04000000%\n",
            "Train Epoch: 9 [49920/50000 (100%)] \t Loss: 1.682053\n",
            "[9] png - Test Loss: 1120.4274, Accuracy: 66.82000000%\n",
            "[9] jpg - Test Loss: 1120.4275, Accuracy: 66.82000000%\n",
            "Train Epoch: 10 [49920/50000 (100%)] \t Loss: 1.676445\n",
            "[10] png - Test Loss: 1114.6638, Accuracy: 67.74000000%\n",
            "[10] jpg - Test Loss: 1114.6637, Accuracy: 67.74000000%\n",
            "Train Epoch: 11 [49920/50000 (100%)] \t Loss: 1.785549\n",
            "[11] png - Test Loss: 1106.9382, Accuracy: 69.02000000%\n",
            "[11] jpg - Test Loss: 1106.9385, Accuracy: 69.02000000%\n",
            "Train Epoch: 12 [49920/50000 (100%)] \t Loss: 1.877512\n",
            "[12] png - Test Loss: 1105.9042, Accuracy: 69.09000000%\n",
            "[12] jpg - Test Loss: 1105.9037, Accuracy: 69.09000000%\n",
            "Train Epoch: 13 [49920/50000 (100%)] \t Loss: 1.704568\n",
            "[13] png - Test Loss: 1102.1334, Accuracy: 69.72000000%\n",
            "[13] jpg - Test Loss: 1102.1342, Accuracy: 69.72000000%\n",
            "Train Epoch: 14 [49920/50000 (100%)] \t Loss: 1.855323\n",
            "[14] png - Test Loss: 1096.6082, Accuracy: 70.40000000%\n",
            "[14] jpg - Test Loss: 1096.6068, Accuracy: 70.40000000%\n",
            "Train Epoch: 15 [49920/50000 (100%)] \t Loss: 1.731610\n",
            "[15] png - Test Loss: 1095.0769, Accuracy: 70.89000000%\n",
            "[15] jpg - Test Loss: 1095.0765, Accuracy: 70.89000000%\n",
            "Train Epoch: 16 [49920/50000 (100%)] \t Loss: 1.838409\n",
            "[16] png - Test Loss: 1088.3132, Accuracy: 71.88000000%\n",
            "[16] jpg - Test Loss: 1088.3127, Accuracy: 71.88000000%\n",
            "Train Epoch: 17 [49920/50000 (100%)] \t Loss: 1.816650\n",
            "[17] png - Test Loss: 1086.5477, Accuracy: 72.29000000%\n",
            "[17] jpg - Test Loss: 1086.5485, Accuracy: 72.29000000%\n",
            "Train Epoch: 18 [49920/50000 (100%)] \t Loss: 1.810729\n",
            "[18] png - Test Loss: 1085.9468, Accuracy: 72.27000000%\n",
            "[18] jpg - Test Loss: 1085.9481, Accuracy: 72.27000000%\n",
            "Train Epoch: 19 [49920/50000 (100%)] \t Loss: 1.808725\n",
            "[19] png - Test Loss: 1086.7570, Accuracy: 72.07000000%\n",
            "[19] jpg - Test Loss: 1086.7570, Accuracy: 72.07000000%\n",
            "Train Epoch: 20 [49920/50000 (100%)] \t Loss: 1.582366\n",
            "[20] png - Test Loss: 1081.2262, Accuracy: 73.15000000%\n",
            "[20] jpg - Test Loss: 1081.2264, Accuracy: 73.15000000%\n",
            "Train Epoch: 21 [49920/50000 (100%)] \t Loss: 1.668112\n",
            "[21] png - Test Loss: 1081.4021, Accuracy: 73.02000000%\n",
            "[21] jpg - Test Loss: 1081.4020, Accuracy: 73.02000000%\n",
            "Train Epoch: 22 [49920/50000 (100%)] \t Loss: 1.744059\n",
            "[22] png - Test Loss: 1077.0853, Accuracy: 73.64000000%\n",
            "[22] jpg - Test Loss: 1077.0856, Accuracy: 73.64000000%\n",
            "Train Epoch: 23 [49920/50000 (100%)] \t Loss: 1.606973\n",
            "[23] png - Test Loss: 1076.6919, Accuracy: 73.70000000%\n",
            "[23] jpg - Test Loss: 1076.6920, Accuracy: 73.70000000%\n",
            "Train Epoch: 24 [49920/50000 (100%)] \t Loss: 1.741255\n",
            "[24] png - Test Loss: 1073.9705, Accuracy: 74.07000000%\n",
            "[24] jpg - Test Loss: 1073.9712, Accuracy: 74.07000000%\n",
            "Train Epoch: 25 [49920/50000 (100%)] \t Loss: 1.831996\n",
            "[25] png - Test Loss: 1073.1636, Accuracy: 74.37000000%\n",
            "[25] jpg - Test Loss: 1073.1632, Accuracy: 74.37000000%\n",
            "Train Epoch: 26 [49920/50000 (100%)] \t Loss: 1.777131\n",
            "[26] png - Test Loss: 1069.2433, Accuracy: 75.12000000%\n",
            "[26] jpg - Test Loss: 1069.2434, Accuracy: 75.12000000%\n",
            "Train Epoch: 27 [49920/50000 (100%)] \t Loss: 1.647080\n",
            "[27] png - Test Loss: 1068.9612, Accuracy: 75.07000000%\n",
            "[27] jpg - Test Loss: 1068.9617, Accuracy: 75.07000000%\n",
            "Train Epoch: 28 [49920/50000 (100%)] \t Loss: 1.780035\n",
            "[28] png - Test Loss: 1068.3292, Accuracy: 75.18000000%\n",
            "[28] jpg - Test Loss: 1068.3282, Accuracy: 75.18000000%\n",
            "Train Epoch: 29 [49920/50000 (100%)] \t Loss: 1.681068\n",
            "[29] png - Test Loss: 1065.7305, Accuracy: 75.60000000%\n",
            "[29] jpg - Test Loss: 1065.7306, Accuracy: 75.60000000%\n",
            "Train Epoch: 30 [49920/50000 (100%)] \t Loss: 1.668830\n",
            "[30] png - Test Loss: 1065.1384, Accuracy: 75.67000000%\n",
            "[30] jpg - Test Loss: 1065.1382, Accuracy: 75.67000000%\n",
            "Train Epoch: 31 [49920/50000 (100%)] \t Loss: 1.651498\n",
            "[31] png - Test Loss: 1062.6461, Accuracy: 76.12000000%\n",
            "[31] jpg - Test Loss: 1062.6458, Accuracy: 76.12000000%\n",
            "Train Epoch: 32 [49920/50000 (100%)] \t Loss: 1.773621\n",
            "[32] png - Test Loss: 1058.1277, Accuracy: 76.78000000%\n",
            "[32] jpg - Test Loss: 1058.1274, Accuracy: 76.78000000%\n",
            "Train Epoch: 33 [49920/50000 (100%)] \t Loss: 1.681875\n",
            "[33] png - Test Loss: 1060.4556, Accuracy: 76.40000000%\n",
            "[33] jpg - Test Loss: 1060.4554, Accuracy: 76.40000000%\n",
            "Train Epoch: 34 [49920/50000 (100%)] \t Loss: 1.703143\n",
            "[34] png - Test Loss: 1058.9075, Accuracy: 76.63000000%\n",
            "[34] jpg - Test Loss: 1058.9066, Accuracy: 76.63000000%\n",
            "Train Epoch: 35 [49920/50000 (100%)] \t Loss: 1.682714\n",
            "[35] png - Test Loss: 1058.2347, Accuracy: 76.66000000%\n",
            "[35] jpg - Test Loss: 1058.2355, Accuracy: 76.66000000%\n",
            "Train Epoch: 36 [49920/50000 (100%)] \t Loss: 1.786690\n",
            "[36] png - Test Loss: 1056.8756, Accuracy: 76.80000000%\n",
            "[36] jpg - Test Loss: 1056.8756, Accuracy: 76.80000000%\n",
            "Train Epoch: 37 [49920/50000 (100%)] \t Loss: 1.758505\n",
            "[37] png - Test Loss: 1059.7600, Accuracy: 76.34000000%\n",
            "[37] jpg - Test Loss: 1059.7587, Accuracy: 76.34000000%\n",
            "Train Epoch: 38 [49920/50000 (100%)] \t Loss: 1.750316\n",
            "[38] png - Test Loss: 1054.8668, Accuracy: 77.32000000%\n",
            "[38] jpg - Test Loss: 1054.8661, Accuracy: 77.32000000%\n",
            "Train Epoch: 39 [49920/50000 (100%)] \t Loss: 1.683923\n",
            "[39] png - Test Loss: 1052.8320, Accuracy: 77.65000000%\n",
            "[39] jpg - Test Loss: 1052.8318, Accuracy: 77.65000000%\n",
            "Train Epoch: 40 [49920/50000 (100%)] \t Loss: 1.773961\n",
            "[40] png - Test Loss: 1052.4542, Accuracy: 77.63000000%\n",
            "[40] jpg - Test Loss: 1052.4535, Accuracy: 77.63000000%\n",
            "Train Epoch: 41 [49920/50000 (100%)] \t Loss: 1.523654\n",
            "[41] png - Test Loss: 1053.3591, Accuracy: 77.60000000%\n",
            "[41] jpg - Test Loss: 1053.3578, Accuracy: 77.60000000%\n",
            "Train Epoch: 42 [49920/50000 (100%)] \t Loss: 1.585632\n",
            "[42] png - Test Loss: 1050.7468, Accuracy: 78.00000000%\n",
            "[42] jpg - Test Loss: 1050.7469, Accuracy: 78.00000000%\n",
            "Train Epoch: 43 [49920/50000 (100%)] \t Loss: 1.659435\n",
            "[43] png - Test Loss: 1050.5846, Accuracy: 78.02000000%\n",
            "[43] jpg - Test Loss: 1050.5842, Accuracy: 78.02000000%\n",
            "Train Epoch: 44 [19520/50000 (39%)] \t Loss: 1.585266"
          ]
        }
      ]
    },
    {
      "cell_type": "code",
      "metadata": {
        "id": "a18981ca"
      },
      "source": [
        ""
      ],
      "id": "a18981ca",
      "execution_count": null,
      "outputs": []
    }
  ]
}