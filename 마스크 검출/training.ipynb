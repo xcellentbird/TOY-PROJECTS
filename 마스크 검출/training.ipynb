{
 "cells": [
  {
   "cell_type": "code",
   "execution_count": 1,
   "metadata": {
    "id": "cP9fX6jifBT3"
   },
   "outputs": [],
   "source": [
    "import tensorflow.keras as keras\n",
    "import tensorflow.keras.preprocessing.image as Image\n",
    "from sklearn.model_selection import train_test_split\n",
    "from sklearn.preprocessing import LabelBinarizer\n",
    "from sklearn.metrics import classification_report\n",
    "import matplotlib.pyplot as plt\n",
    "from imutils import paths\n",
    "import numpy as np\n",
    "import os"
   ]
  },
  {
   "cell_type": "code",
   "execution_count": 2,
   "metadata": {
    "colab": {
     "base_uri": "https://localhost:8080/"
    },
    "id": "ddhkA1Uq3-PQ",
    "outputId": "b55c708e-d749-487c-de13-247cda961b12"
   },
   "outputs": [
    {
     "data": {
      "text/plain": [
       "<tensorflow.python.eager.context._EagerDeviceContext at 0x7f2950c74960>"
      ]
     },
     "execution_count": 2,
     "metadata": {
      "tags": []
     },
     "output_type": "execute_result"
    }
   ],
   "source": [
    "import tensorflow as tf\n",
    "\n",
    "tf.device('/device:GPU:0')"
   ]
  },
  {
   "cell_type": "code",
   "execution_count": 3,
   "metadata": {
    "id": "vypTYHh4fI2W"
   },
   "outputs": [],
   "source": [
    "INIT_LEARNING_RATE = 1e-3\n",
    "EPOCHS = 50\n",
    "BATCH_SIZE = 32\n",
    "SPLIT = 0.1"
   ]
  },
  {
   "cell_type": "code",
   "execution_count": 4,
   "metadata": {
    "colab": {
     "base_uri": "https://localhost:8080/"
    },
    "id": "LRLobEROgGXz",
    "outputId": "122b71d8-9aa6-4c68-e147-01f65bb66a9e"
   },
   "outputs": [
    {
     "name": "stdout",
     "output_type": "stream",
     "text": [
      "0 / 8982\n",
      "1000 / 8982\n",
      "2000 / 8982\n",
      "3000 / 8982\n",
      "4000 / 8982\n",
      "5000 / 8982\n",
      "6000 / 8982\n",
      "7000 / 8982\n",
      "8000 / 8982\n"
     ]
    }
   ],
   "source": [
    "imagePaths = list(paths.list_images('data/'))\n",
    "train_dataset = [] # 이미지가 들어갈 list\n",
    "labels = [] # 이미지에 해당하는 label(mask, no mask, eme-mask)이 들어갈 리스트\n",
    "\n",
    "# 이미지 데이터를 읽어와 이름으로부터 label을 분리해내고, 이미지를 numpy 배열 형태로 바꿔놓습니다.\n",
    "for i, imagePath in enumerate(imagePaths):\n",
    "    label = imagePath.split(os.path.sep)[-2] # ibird/user/model/nomask/image_2342.jpg 와 같은 식의 경로에서 /로 나누고 뒤에서 두번쨰(즉, label)값을 얻어내겟다.\n",
    "    image = Image.load_img(imagePath, target_size=(128, 128)) # 이미지를 불러온다. 단, 이미지 크기는 224 * 224로 설정하여\n",
    "    image = Image.img_to_array(image) # 이미지 가져온 것을 array형태로 바꾸겠다.\n",
    "    if not i % 1000:\n",
    "        print(i, '/', len(imagePaths))\n",
    "\n",
    "    train_dataset.append(image)\n",
    "    labels.append(label)\n",
    "\n",
    "train_dataset = np.array(train_dataset, dtype='float32')\n",
    "#labels = np.array(labels)"
   ]
  },
  {
   "cell_type": "code",
   "execution_count": 5,
   "metadata": {
    "id": "wEEfasmr3E_g"
   },
   "outputs": [],
   "source": [
    "class_mapping = list(np.unique(labels))\n",
    "#print(class_mapping)\n",
    "for i in range(len(labels)):\n",
    "  for j, cls in enumerate(class_mapping):\n",
    "    if labels[i] == cls:\n",
    "      mapping = [0, 0, 0]\n",
    "      mapping[j] = 1\n",
    "      labels[i] = mapping"
   ]
  },
  {
   "cell_type": "code",
   "execution_count": 6,
   "metadata": {
    "id": "yiESlCdp3E_g"
   },
   "outputs": [],
   "source": [
    "labels = np.array(labels) #, dtype=int)"
   ]
  },
  {
   "cell_type": "code",
   "execution_count": 7,
   "metadata": {
    "id": "Vh11ssBl3E_h"
   },
   "outputs": [],
   "source": [
    "# 학습, 테스트 데이터셋으로 나눈다.\n",
    "(train_dataset, test_dataset, train_target, test_target) = train_test_split(train_dataset, labels, test_size=SPLIT, stratify=labels, random_state=92)"
   ]
  },
  {
   "cell_type": "code",
   "execution_count": 8,
   "metadata": {
    "id": "rIPuPwaSkzb-"
   },
   "outputs": [],
   "source": [
    "# 이미지 데이터량을 보충을 위해 Image Augmentation을 설정해둡니다.\n",
    "# 원하는 augmentation을 넣습니다. 어떤 것을 넣으면 성능이 올라가고 오히려 반대로 떨어지기도 합니다.\n",
    "augmentation = Image.ImageDataGenerator(\n",
    "\tzoom_range=0.15,\n",
    "\twidth_shift_range=0.3,\n",
    "\theight_shift_range=0.3,\n",
    "\tfill_mode=\"nearest\")"
   ]
  },
  {
   "cell_type": "code",
   "execution_count": 9,
   "metadata": {
    "colab": {
     "base_uri": "https://localhost:8080/"
    },
    "id": "6_iS0TMrNRaT",
    "outputId": "158a8b91-3070-4a9c-e602-6bbe0d876042"
   },
   "outputs": [
    {
     "name": "stdout",
     "output_type": "stream",
     "text": [
      "WARNING:tensorflow:`input_shape` is undefined or non-square, or `rows` is not in [96, 128, 160, 192, 224]. Weights for input shape (224, 224) will be loaded as the default.\n"
     ]
    }
   ],
   "source": [
    "# 전이학습\n",
    "\n",
    "from tensorflow.keras.layers import Input\n",
    "\n",
    "# mobilenetv2 pretrain된 버전을 가져옵니다.\n",
    "# moblienet은 Depth wise Convolution(채널을 분리해내 따로 CNN을 계산을 하고 다시 합치는) 기법을 통해 연산량을 줄여 경량화한 모델\n",
    "baseModel = keras.applications.MobileNetV2(weights='imagenet', include_top=False, input_tensor=Input(shape=(128, 128, 3)))"
   ]
  },
  {
   "cell_type": "code",
   "execution_count": 10,
   "metadata": {
    "id": "TC8Z19DhOF0R"
   },
   "outputs": [],
   "source": [
    "# mobilenet에 classifier(분류기)를 만들어 이어붙입니다.\n",
    "headModel = baseModel.output\n",
    "headModel = keras.layers.AveragePooling2D(pool_size=(4, 4))(headModel) # 평균을 내는 pooling layer\n",
    "headModel = keras.layers.Flatten(name='flatten')(headModel) # flatten함수를 사용하여 2차원 배열을 1차원배열로 만든다\n",
    "headModel = keras.layers.Dense(128, activation='relu')(headModel) # DNN 층 activation은 relu를 사용하였다.\n",
    "headModel = keras.layers.Dropout(0.5)(headModel) # dropout을 사용하여 과적합을 막는다.\n",
    "headModel = keras.layers.Dense(3, activation='softmax')(headModel) # DNN 층 사용. 목표 클래스는 2개이므로 output이 2개로 나오도록 설정. 그리고 activation은 softmax\n",
    "\n",
    "model = keras.models.Model(inputs=baseModel.input, outputs=headModel) # moblienet과 만든 classifier를 합쳐 새로운 모델로\n",
    "\n",
    "# basemodel(mobilenet)만 freeze시키고, classifier만 학습되도록 설정해둡니다.\n",
    "# basemodel을 freeze시키지 않고도 사용 가능합니다.\n",
    "for layer in baseModel.layers:\n",
    "  layer.trainable = False"
   ]
  },
  {
   "cell_type": "code",
   "execution_count": 11,
   "metadata": {
    "id": "-OPpypLFdl7I"
   },
   "outputs": [],
   "source": [
    "# 체크 포인트를 설정하여 val_loss가 가장 개선되었을 때 해당 모델이 저장되도록 설정합니다.\n",
    "checkpoint = keras.callbacks.ModelCheckpoint('checkpoint-best.h5',   # file명을 지정합니다\n",
    "                             monitor='val_loss',   # val_loss 값이 개선되었을때 호출됩니다\n",
    "                             verbose=1,            # 로그를 출력합니다\n",
    "                             save_best_only=True,  # 가장 best 값만 저장합니다\n",
    "                             mode='auto'           # auto는 알아서 best를 찾습니다. min/max\n",
    "                            )"
   ]
  },
  {
   "cell_type": "code",
   "execution_count": 12,
   "metadata": {
    "id": "qm6nEqD_eNGs"
   },
   "outputs": [],
   "source": [
    "# 스케쥴러 설정\n",
    "def scheduler(epoch, lr):\n",
    "  if epoch < 10:\n",
    "    return lr\n",
    "  else: # lr 10 이상부터 점점 감소\n",
    "    return lr * tf.math.exp(-0.1)\n",
    "\n",
    "scheduler_callback = tf.keras.callbacks.LearningRateScheduler(scheduler)"
   ]
  },
  {
   "cell_type": "code",
   "execution_count": 13,
   "metadata": {
    "id": "fTpbL04ZfHff"
   },
   "outputs": [],
   "source": [
    "callbacks = [checkpoint, scheduler_callback]"
   ]
  },
  {
   "cell_type": "code",
   "execution_count": 14,
   "metadata": {
    "colab": {
     "base_uri": "https://localhost:8080/"
    },
    "id": "f45HSFzeQCT3",
    "outputId": "74e243fc-1514-4c57-b853-d69901dd3787"
   },
   "outputs": [
    {
     "name": "stdout",
     "output_type": "stream",
     "text": [
      "Epoch 1/50\n",
      "266/266 [==============================] - 19s 25ms/step - loss: 0.2918 - accuracy: 0.8292 - val_loss: 0.1765 - val_accuracy: 0.8973\n",
      "\n",
      "Epoch 00001: val_loss improved from inf to 0.17651, saving model to checkpoint-best.h5\n"
     ]
    },
    {
     "name": "stderr",
     "output_type": "stream",
     "text": [
      "/usr/local/lib/python3.7/dist-packages/tensorflow/python/keras/utils/generic_utils.py:497: CustomMaskWarning: Custom mask layers require a config and must override get_config. When loading, the custom mask layer must be passed to the custom_objects argument.\n",
      "  category=CustomMaskWarning)\n"
     ]
    },
    {
     "name": "stdout",
     "output_type": "stream",
     "text": [
      "Epoch 2/50\n",
      "266/266 [==============================] - 6s 21ms/step - loss: 0.1795 - accuracy: 0.8978 - val_loss: 0.1514 - val_accuracy: 0.9196\n",
      "\n",
      "Epoch 00002: val_loss improved from 0.17651 to 0.15139, saving model to checkpoint-best.h5\n",
      "Epoch 3/50\n",
      "266/266 [==============================] - 6s 21ms/step - loss: 0.1579 - accuracy: 0.9138 - val_loss: 0.1550 - val_accuracy: 0.8884\n",
      "\n",
      "Epoch 00003: val_loss did not improve from 0.15139\n",
      "Epoch 4/50\n",
      "266/266 [==============================] - 6s 22ms/step - loss: 0.1388 - accuracy: 0.9232 - val_loss: 0.1473 - val_accuracy: 0.9107\n",
      "\n",
      "Epoch 00004: val_loss improved from 0.15139 to 0.14734, saving model to checkpoint-best.h5\n",
      "Epoch 5/50\n",
      "266/266 [==============================] - 6s 22ms/step - loss: 0.1286 - accuracy: 0.9288 - val_loss: 0.1454 - val_accuracy: 0.9062\n",
      "\n",
      "Epoch 00005: val_loss improved from 0.14734 to 0.14540, saving model to checkpoint-best.h5\n",
      "Epoch 6/50\n",
      "266/266 [==============================] - 6s 22ms/step - loss: 0.1189 - accuracy: 0.9341 - val_loss: 0.1532 - val_accuracy: 0.9263\n",
      "\n",
      "Epoch 00006: val_loss did not improve from 0.14540\n",
      "Epoch 7/50\n",
      "266/266 [==============================] - 6s 21ms/step - loss: 0.1071 - accuracy: 0.9391 - val_loss: 0.1341 - val_accuracy: 0.9375\n",
      "\n",
      "Epoch 00007: val_loss improved from 0.14540 to 0.13414, saving model to checkpoint-best.h5\n",
      "Epoch 8/50\n",
      "266/266 [==============================] - 6s 21ms/step - loss: 0.1039 - accuracy: 0.9425 - val_loss: 0.1392 - val_accuracy: 0.9174\n",
      "\n",
      "Epoch 00008: val_loss did not improve from 0.13414\n",
      "Epoch 9/50\n",
      "266/266 [==============================] - 6s 22ms/step - loss: 0.1013 - accuracy: 0.9419 - val_loss: 0.1456 - val_accuracy: 0.9286\n",
      "\n",
      "Epoch 00009: val_loss did not improve from 0.13414\n",
      "Epoch 10/50\n",
      "266/266 [==============================] - 6s 22ms/step - loss: 0.0910 - accuracy: 0.9495 - val_loss: 0.1286 - val_accuracy: 0.9286\n",
      "\n",
      "Epoch 00010: val_loss improved from 0.13414 to 0.12858, saving model to checkpoint-best.h5\n",
      "Epoch 11/50\n",
      "266/266 [==============================] - 6s 21ms/step - loss: 0.0838 - accuracy: 0.9545 - val_loss: 0.1382 - val_accuracy: 0.9286\n",
      "\n",
      "Epoch 00011: val_loss did not improve from 0.12858\n",
      "Epoch 12/50\n",
      "266/266 [==============================] - 6s 21ms/step - loss: 0.0800 - accuracy: 0.9555 - val_loss: 0.1322 - val_accuracy: 0.9241\n",
      "\n",
      "Epoch 00012: val_loss did not improve from 0.12858\n",
      "Epoch 13/50\n",
      "266/266 [==============================] - 6s 21ms/step - loss: 0.0738 - accuracy: 0.9585 - val_loss: 0.1375 - val_accuracy: 0.9263\n",
      "\n",
      "Epoch 00013: val_loss did not improve from 0.12858\n",
      "Epoch 14/50\n",
      "266/266 [==============================] - 6s 21ms/step - loss: 0.0684 - accuracy: 0.9616 - val_loss: 0.1334 - val_accuracy: 0.9420\n",
      "\n",
      "Epoch 00014: val_loss did not improve from 0.12858\n",
      "Epoch 15/50\n",
      "266/266 [==============================] - 6s 22ms/step - loss: 0.0612 - accuracy: 0.9665 - val_loss: 0.1357 - val_accuracy: 0.9353\n",
      "\n",
      "Epoch 00015: val_loss did not improve from 0.12858\n",
      "Epoch 16/50\n",
      "266/266 [==============================] - 6s 22ms/step - loss: 0.0601 - accuracy: 0.9668 - val_loss: 0.1461 - val_accuracy: 0.9397\n",
      "\n",
      "Epoch 00016: val_loss did not improve from 0.12858\n",
      "Epoch 17/50\n",
      "266/266 [==============================] - 6s 22ms/step - loss: 0.0560 - accuracy: 0.9700 - val_loss: 0.1341 - val_accuracy: 0.9286\n",
      "\n",
      "Epoch 00017: val_loss did not improve from 0.12858\n",
      "Epoch 18/50\n",
      "266/266 [==============================] - 6s 22ms/step - loss: 0.0506 - accuracy: 0.9736 - val_loss: 0.1481 - val_accuracy: 0.9375\n",
      "\n",
      "Epoch 00018: val_loss did not improve from 0.12858\n",
      "Epoch 19/50\n",
      "266/266 [==============================] - 6s 21ms/step - loss: 0.0472 - accuracy: 0.9768 - val_loss: 0.1422 - val_accuracy: 0.9375\n",
      "\n",
      "Epoch 00019: val_loss did not improve from 0.12858\n",
      "Epoch 20/50\n",
      "266/266 [==============================] - 6s 22ms/step - loss: 0.0443 - accuracy: 0.9776 - val_loss: 0.1430 - val_accuracy: 0.9442\n",
      "\n",
      "Epoch 00020: val_loss did not improve from 0.12858\n",
      "Epoch 21/50\n",
      "266/266 [==============================] - 6s 22ms/step - loss: 0.0415 - accuracy: 0.9802 - val_loss: 0.1307 - val_accuracy: 0.9420\n",
      "\n",
      "Epoch 00021: val_loss did not improve from 0.12858\n",
      "Epoch 22/50\n",
      "266/266 [==============================] - 6s 22ms/step - loss: 0.0409 - accuracy: 0.9813 - val_loss: 0.1385 - val_accuracy: 0.9330\n",
      "\n",
      "Epoch 00022: val_loss did not improve from 0.12858\n",
      "Epoch 23/50\n",
      "266/266 [==============================] - 6s 22ms/step - loss: 0.0378 - accuracy: 0.9828 - val_loss: 0.1528 - val_accuracy: 0.9353\n",
      "\n",
      "Epoch 00023: val_loss did not improve from 0.12858\n",
      "Epoch 24/50\n",
      "266/266 [==============================] - 6s 22ms/step - loss: 0.0386 - accuracy: 0.9816 - val_loss: 0.1428 - val_accuracy: 0.9375\n",
      "\n",
      "Epoch 00024: val_loss did not improve from 0.12858\n",
      "Epoch 25/50\n",
      "266/266 [==============================] - 6s 22ms/step - loss: 0.0338 - accuracy: 0.9842 - val_loss: 0.1469 - val_accuracy: 0.9420\n",
      "\n",
      "Epoch 00025: val_loss did not improve from 0.12858\n",
      "Epoch 26/50\n",
      "266/266 [==============================] - 6s 22ms/step - loss: 0.0349 - accuracy: 0.9832 - val_loss: 0.1404 - val_accuracy: 0.9442\n",
      "\n",
      "Epoch 00026: val_loss did not improve from 0.12858\n",
      "Epoch 27/50\n",
      "266/266 [==============================] - 6s 22ms/step - loss: 0.0344 - accuracy: 0.9842 - val_loss: 0.1456 - val_accuracy: 0.9487\n",
      "\n",
      "Epoch 00027: val_loss did not improve from 0.12858\n",
      "Epoch 28/50\n",
      "266/266 [==============================] - 6s 22ms/step - loss: 0.0321 - accuracy: 0.9854 - val_loss: 0.1513 - val_accuracy: 0.9420\n",
      "\n",
      "Epoch 00028: val_loss did not improve from 0.12858\n",
      "Epoch 29/50\n",
      "266/266 [==============================] - 6s 22ms/step - loss: 0.0306 - accuracy: 0.9859 - val_loss: 0.1478 - val_accuracy: 0.9420\n",
      "\n",
      "Epoch 00029: val_loss did not improve from 0.12858\n",
      "Epoch 30/50\n",
      "266/266 [==============================] - 6s 22ms/step - loss: 0.0285 - accuracy: 0.9874 - val_loss: 0.1496 - val_accuracy: 0.9464\n",
      "\n",
      "Epoch 00030: val_loss did not improve from 0.12858\n",
      "Epoch 31/50\n",
      "266/266 [==============================] - 6s 22ms/step - loss: 0.0315 - accuracy: 0.9854 - val_loss: 0.1469 - val_accuracy: 0.9442\n",
      "\n",
      "Epoch 00031: val_loss did not improve from 0.12858\n",
      "Epoch 32/50\n",
      "266/266 [==============================] - 6s 22ms/step - loss: 0.0279 - accuracy: 0.9868 - val_loss: 0.1574 - val_accuracy: 0.9397\n",
      "\n",
      "Epoch 00032: val_loss did not improve from 0.12858\n",
      "Epoch 33/50\n",
      "266/266 [==============================] - 6s 22ms/step - loss: 0.0300 - accuracy: 0.9864 - val_loss: 0.1525 - val_accuracy: 0.9420\n",
      "\n",
      "Epoch 00033: val_loss did not improve from 0.12858\n",
      "Epoch 34/50\n",
      "266/266 [==============================] - 6s 22ms/step - loss: 0.0281 - accuracy: 0.9885 - val_loss: 0.1514 - val_accuracy: 0.9420\n",
      "\n",
      "Epoch 00034: val_loss did not improve from 0.12858\n",
      "Epoch 35/50\n",
      "266/266 [==============================] - 6s 22ms/step - loss: 0.0270 - accuracy: 0.9879 - val_loss: 0.1542 - val_accuracy: 0.9420\n",
      "\n",
      "Epoch 00035: val_loss did not improve from 0.12858\n",
      "Epoch 36/50\n",
      "266/266 [==============================] - 6s 22ms/step - loss: 0.0272 - accuracy: 0.9886 - val_loss: 0.1518 - val_accuracy: 0.9420\n",
      "\n",
      "Epoch 00036: val_loss did not improve from 0.12858\n",
      "Epoch 37/50\n",
      "266/266 [==============================] - 6s 22ms/step - loss: 0.0275 - accuracy: 0.9871 - val_loss: 0.1538 - val_accuracy: 0.9442\n",
      "\n",
      "Epoch 00037: val_loss did not improve from 0.12858\n",
      "Epoch 38/50\n",
      "266/266 [==============================] - 6s 22ms/step - loss: 0.0257 - accuracy: 0.9896 - val_loss: 0.1548 - val_accuracy: 0.9442\n",
      "\n",
      "Epoch 00038: val_loss did not improve from 0.12858\n",
      "Epoch 39/50\n",
      "266/266 [==============================] - 6s 22ms/step - loss: 0.0250 - accuracy: 0.9900 - val_loss: 0.1579 - val_accuracy: 0.9442\n",
      "\n",
      "Epoch 00039: val_loss did not improve from 0.12858\n",
      "Epoch 40/50\n",
      "266/266 [==============================] - 6s 22ms/step - loss: 0.0268 - accuracy: 0.9894 - val_loss: 0.1593 - val_accuracy: 0.9442\n",
      "\n",
      "Epoch 00040: val_loss did not improve from 0.12858\n",
      "Epoch 41/50\n",
      "266/266 [==============================] - 6s 22ms/step - loss: 0.0259 - accuracy: 0.9885 - val_loss: 0.1577 - val_accuracy: 0.9442\n",
      "\n",
      "Epoch 00041: val_loss did not improve from 0.12858\n",
      "Epoch 42/50\n",
      "266/266 [==============================] - 6s 22ms/step - loss: 0.0241 - accuracy: 0.9904 - val_loss: 0.1553 - val_accuracy: 0.9442\n",
      "\n",
      "Epoch 00042: val_loss did not improve from 0.12858\n",
      "Epoch 43/50\n",
      "266/266 [==============================] - 6s 22ms/step - loss: 0.0256 - accuracy: 0.9882 - val_loss: 0.1583 - val_accuracy: 0.9442\n",
      "\n",
      "Epoch 00043: val_loss did not improve from 0.12858\n",
      "Epoch 44/50\n",
      "266/266 [==============================] - 6s 22ms/step - loss: 0.0244 - accuracy: 0.9904 - val_loss: 0.1550 - val_accuracy: 0.9442\n",
      "\n",
      "Epoch 00044: val_loss did not improve from 0.12858\n",
      "Epoch 45/50\n",
      "266/266 [==============================] - 6s 22ms/step - loss: 0.0255 - accuracy: 0.9888 - val_loss: 0.1544 - val_accuracy: 0.9420\n",
      "\n",
      "Epoch 00045: val_loss did not improve from 0.12858\n",
      "Epoch 46/50\n",
      "266/266 [==============================] - 6s 22ms/step - loss: 0.0231 - accuracy: 0.9909 - val_loss: 0.1581 - val_accuracy: 0.9442\n",
      "\n",
      "Epoch 00046: val_loss did not improve from 0.12858\n",
      "Epoch 47/50\n",
      "266/266 [==============================] - 6s 22ms/step - loss: 0.0242 - accuracy: 0.9895 - val_loss: 0.1580 - val_accuracy: 0.9442\n",
      "\n",
      "Epoch 00047: val_loss did not improve from 0.12858\n",
      "Epoch 48/50\n",
      "266/266 [==============================] - 6s 22ms/step - loss: 0.0223 - accuracy: 0.9914 - val_loss: 0.1593 - val_accuracy: 0.9442\n",
      "\n",
      "Epoch 00048: val_loss did not improve from 0.12858\n",
      "Epoch 49/50\n",
      "266/266 [==============================] - 6s 22ms/step - loss: 0.0224 - accuracy: 0.9902 - val_loss: 0.1599 - val_accuracy: 0.9420\n",
      "\n",
      "Epoch 00049: val_loss did not improve from 0.12858\n",
      "Epoch 50/50\n",
      "266/266 [==============================] - 6s 22ms/step - loss: 0.0232 - accuracy: 0.9909 - val_loss: 0.1591 - val_accuracy: 0.9420\n",
      "\n",
      "Epoch 00050: val_loss did not improve from 0.12858\n"
     ]
    }
   ],
   "source": [
    "# 'Adam optimizer'를 가져옵니다. 그리고 'loss function'은 'binary_cross_entropy'로 설정합니다.\n",
    "optimizer = keras.optimizers.Adam(learning_rate=INIT_LEARNING_RATE, decay=INIT_LEARNING_RATE / EPOCHS)\n",
    "model.compile(loss = 'binary_crossentropy', optimizer=optimizer, metrics=['accuracy'])\n",
    "\n",
    "# 위에 설정값들을 이용해서 모델을 학습시킵니다.\n",
    "# validation(검증 즉 모의고사 같은 것) - 용도: 과적합 정도를 알아보기 위한 용도\n",
    "# augmentation을 설정한 버전\n",
    "\"\"\"\n",
    "H = model.fit(augmentation.flow(train_dataset, train_target, batch_size=BATCH_SIZE),\n",
    "              steps_per_epoch=len(train_dataset) // BATCH_SIZE,\n",
    "              validation_data=(test_dataset, test_target),\n",
    "              validation_steps=len(test_dataset) // BATCH_SIZE,\n",
    "              callbacks=callbacks,\n",
    "              epochs = EPOCHS)\n",
    "\"\"\"\n",
    "# augmentation을 제거한 버전\n",
    "H = model.fit(x=train_dataset, y=train_target, batch_size=BATCH_SIZE,\n",
    "              steps_per_epoch=len(train_dataset) // BATCH_SIZE,\n",
    "              validation_data=(test_dataset, test_target),\n",
    "              validation_steps=len(test_dataset) // BATCH_SIZE,\n",
    "              callbacks=callbacks,\n",
    "              epochs = EPOCHS)\n",
    "              "
   ]
  },
  {
   "cell_type": "code",
   "execution_count": 18,
   "metadata": {
    "colab": {
     "base_uri": "https://localhost:8080/"
    },
    "id": "YyzFReGISCmC",
    "outputId": "d3594a6d-2a63-4801-d6f8-4abe135a2855"
   },
   "outputs": [
    {
     "name": "stderr",
     "output_type": "stream",
     "text": [
      "/usr/local/lib/python3.7/dist-packages/tensorflow/python/keras/utils/generic_utils.py:497: CustomMaskWarning: Custom mask layers require a config and must override get_config. When loading, the custom mask layer must be passed to the custom_objects argument.\n",
      "  category=CustomMaskWarning)\n"
     ]
    }
   ],
   "source": [
    "# 테스트셋을 이용해 예측값(label별 확률)을 얻어냅니다.\n",
    "# predIdx = model.predict(test_dataset, batch_size=BATCH_SIZE)\n",
    "\n",
    "# 확률이 가장 높은 label index를 얻어냅니다\n",
    "# predIdx = np.argmax(predIdx, axis=1)\n",
    "\n",
    "# 모델 저장\n",
    "model.save('mask_detector', save_format='h5') # mask_detector123.h5"
   ]
  },
  {
   "cell_type": "code",
   "execution_count": 16,
   "metadata": {
    "colab": {
     "base_uri": "https://localhost:8080/",
     "height": 316
    },
    "id": "NOnp2LbkSkhV",
    "outputId": "beb3e6bb-481d-430c-d5a9-5569c3833833"
   },
   "outputs": [
    {
     "data": {
      "text/plain": [
       "<matplotlib.legend.Legend at 0x7f2899b704d0>"
      ]
     },
     "execution_count": 16,
     "metadata": {
      "tags": []
     },
     "output_type": "execute_result"
    },
    {
     "data": {
      "image/png": "[encoded data removed]",
      "text/plain": [
       "<Figure size 432x288 with 1 Axes>"
      ]
     },
     "metadata": {
      "tags": []
     },
     "output_type": "display_data"
    }
   ],
   "source": [
    "# 모델 학습 loss, accuracy 그래프 출력\n",
    "N = EPOCHS\n",
    "plt.style.use(\"ggplot\")\n",
    "plt.figure()\n",
    "plt.plot(np.arange(0, N), H.history[\"loss\"], label=\"train_loss\")\n",
    "plt.plot(np.arange(0, N), H.history[\"val_loss\"], label=\"val_loss\")\n",
    "plt.plot(np.arange(0, N), H.history[\"accuracy\"], label=\"train_acc\")\n",
    "plt.plot(np.arange(0, N), H.history[\"val_accuracy\"], label=\"val_acc\")\n",
    "plt.title(\"Training Loss and Accuracy\")\n",
    "plt.xlabel(\"Epoch #\")\n",
    "plt.ylabel(\"Loss/Accuracy\")\n",
    "plt.legend(loc=\"lower left\")"
   ]
  }
 ],
 "metadata": {
  "accelerator": "GPU",
  "colab": {
   "collapsed_sections": [],
   "name": "Mask_recognize.ipynb",
   "provenance": []
  },
  "kernelspec": {
   "display_name": "Python 3",
   "language": "python",
   "name": "python3"
  },
  "language_info": {
   "codemirror_mode": {
    "name": "ipython",
    "version": 3
   },
   "file_extension": ".py",
   "mimetype": "text/x-python",
   "name": "python",
   "nbconvert_exporter": "python",
   "pygments_lexer": "ipython3",
   "version": "3.8.10"
  }
 },
 "nbformat": 4,
 "nbformat_minor": 1
}
